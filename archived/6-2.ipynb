{
 "cells": [
  {
   "cell_type": "markdown",
   "metadata": {},
   "source": [
    "# Group Presentation 6"
   ]
  },
  {
   "cell_type": "markdown",
   "metadata": {},
   "source": [
    "## Group 4 Members"
   ]
  },
  {
   "cell_type": "markdown",
   "metadata": {},
   "source": [
    "* Shyam Akhil Nekkanti - 8982123\n",
    "* Jun He (Helena) - 8903073\n",
    "* Zheming Li (Brendan) - 8914152"
   ]
  },
  {
   "cell_type": "markdown",
   "metadata": {},
   "source": [
    "### Field of Inquiry: **YouTube Video Metrics**"
   ]
  },
  {
   "cell_type": "markdown",
   "metadata": {},
   "source": [
    "### Research Question: **What factors most significantly impact the views of a YouTube video?**"
   ]
  },
  {
   "cell_type": "markdown",
   "metadata": {},
   "source": [
    "### Dataset Description"
   ]
  },
  {
   "cell_type": "markdown",
   "metadata": {},
   "source": [
    "The dataset contains information about trending YouTube videos across different countries, including the US, Canada, Germany, and others. It includes various attributes such as video title, channel title, publication date, trending date, views, likes, dislikes, comments, and tags.  It also has categorical data like video category and whether the video includes a thumbnail.\n",
    "\n",
    "The dataset allow us to explore patterns in video performance and understand what factors may contribute to a video becoming trending, such as engagement metrics or metadata.\n"
   ]
  },
  {
   "cell_type": "markdown",
   "metadata": {},
   "source": [
    " \n",
    " We analyzes YouTube video engagement metrics to predict video virality and optimize content strategies for creators. By examining features such as likes-to-views ratio, comments-to-views ratio, and video category, the goal is to identify patterns that correlate with a video trending.\n",
    "\n",
    " ### Revised Hypothesis:\n",
    "\"Videos with higher engagement ratios (likes and comments per view) are more likely to trend compared to videos with high view counts alone. Additionally, specific categories (e.g., Entertainment, Music) have a higher trending probability.\"\n",
    "\n",
    "This hypothesis will be tested using Pearson’s correlation to identify relationships, logistic regression for classification, and probabilistic reasoning to estimate the likelihood of trending under varying conditions."
   ]
  },
  {
   "cell_type": "markdown",
   "metadata": {},
   "source": [
    "## Data Cleaning and Preparation"
   ]
  },
  {
   "cell_type": "code",
   "execution_count": 10,
   "metadata": {},
   "outputs": [],
   "source": [
    "import pandas as pd\n",
    "import numpy as np\n",
    "import matplotlib.pyplot as plt\n",
    "import seaborn as sns\n",
    "from sklearn.model_selection import train_test_split\n",
    "from sklearn.linear_model import LogisticRegression\n",
    "from sklearn.metrics import classification_report, confusion_matrix, accuracy_score\n",
    "from sklearn.naive_bayes import GaussianNB\n",
    "from scipy.stats import pearsonr"
   ]
  },
  {
   "cell_type": "code",
   "execution_count": 11,
   "metadata": {},
   "outputs": [
    {
     "name": "stdout",
     "output_type": "stream",
     "text": [
      "      video_id trending_date  \\\n",
      "0  2kyS6SvSYSE      17.14.11   \n",
      "1  1ZAPwfrtAFY      17.14.11   \n",
      "2  5qpjK5DgCt4      17.14.11   \n",
      "3  puqaWrEC7tY      17.14.11   \n",
      "4  d380meD0W0M      17.14.11   \n",
      "\n",
      "                                               title          channel_title  \\\n",
      "0                 WE WANT TO TALK ABOUT OUR MARRIAGE           CaseyNeistat   \n",
      "1  The Trump Presidency: Last Week Tonight with J...        LastWeekTonight   \n",
      "2  Racist Superman | Rudy Mancuso, King Bach & Le...           Rudy Mancuso   \n",
      "3                   Nickelback Lyrics: Real or Fake?  Good Mythical Morning   \n",
      "4                           I Dare You: GOING BALD!?               nigahiga   \n",
      "\n",
      "   category_id              publish_time  \\\n",
      "0           22  2017-11-13T17:13:01.000Z   \n",
      "1           24  2017-11-13T07:30:00.000Z   \n",
      "2           23  2017-11-12T19:05:24.000Z   \n",
      "3           24  2017-11-13T11:00:04.000Z   \n",
      "4           24  2017-11-12T18:01:41.000Z   \n",
      "\n",
      "                                                tags    views   likes  \\\n",
      "0                                    SHANtell martin   748374   57527   \n",
      "1  last week tonight trump presidency|\"last week ...  2418783   97185   \n",
      "2  racist superman|\"rudy\"|\"mancuso\"|\"king\"|\"bach\"...  3191434  146033   \n",
      "3  rhett and link|\"gmm\"|\"good mythical morning\"|\"...   343168   10172   \n",
      "4  ryan|\"higa\"|\"higatv\"|\"nigahiga\"|\"i dare you\"|\"...  2095731  132235   \n",
      "\n",
      "   dislikes  comment_count                                  thumbnail_link  \\\n",
      "0      2966          15954  https://i.ytimg.com/vi/2kyS6SvSYSE/default.jpg   \n",
      "1      6146          12703  https://i.ytimg.com/vi/1ZAPwfrtAFY/default.jpg   \n",
      "2      5339           8181  https://i.ytimg.com/vi/5qpjK5DgCt4/default.jpg   \n",
      "3       666           2146  https://i.ytimg.com/vi/puqaWrEC7tY/default.jpg   \n",
      "4      1989          17518  https://i.ytimg.com/vi/d380meD0W0M/default.jpg   \n",
      "\n",
      "   comments_disabled  ratings_disabled  video_error_or_removed  \\\n",
      "0              False             False                   False   \n",
      "1              False             False                   False   \n",
      "2              False             False                   False   \n",
      "3              False             False                   False   \n",
      "4              False             False                   False   \n",
      "\n",
      "                                         description  \n",
      "0  SHANTELL'S CHANNEL - https://www.youtube.com/s...  \n",
      "1  One year after the presidential election, John...  \n",
      "2  WATCH MY PREVIOUS VIDEO ▶ \\n\\nSUBSCRIBE ► http...  \n",
      "3  Today we find out if Link is a Nickelback amat...  \n",
      "4  I know it's been a while since we did this sho...  \n"
     ]
    }
   ],
   "source": [
    "# Load the data\n",
    "file_path = \"youtube-dataset/USvideos.csv\"\n",
    "data = pd.read_csv(file_path)\n",
    "\n",
    "# Inspect data\n",
    "print(data.head())"
   ]
  },
  {
   "cell_type": "markdown",
   "metadata": {},
   "source": [
    "### Define classes and methods"
   ]
  },
  {
   "cell_type": "code",
   "execution_count": 12,
   "metadata": {
    "ExecuteTime": {
     "end_time": "2024-09-20T04:12:23.093076Z",
     "start_time": "2024-09-20T04:12:23.086420Z"
    }
   },
   "outputs": [],
   "source": [
    "import pandas as pd\n",
    "import json\n",
    "\n",
    "\n",
    "def load_json(file_path):\n",
    "  \"\"\"\n",
    "  Load JSON data from a file\n",
    "  :param file_path: path to the JSON file\n",
    "  :return: JSON data\n",
    "  \"\"\"\n",
    "\n",
    "  with open(file_path, 'r') as file:\n",
    "    data = json.load(file)\n",
    "  return data\n",
    "\n",
    "\n",
    "def convert_raw_categories_to_dict(raw_categories):\n",
    "  \"\"\"\n",
    "  Convert raw categories data to a dictionary\n",
    "  :param raw_categories: raw categories data\n",
    "  :return: categories dictionary\n",
    "  \"\"\"\n",
    "\n",
    "  categories_dict = {}\n",
    "\n",
    "  for item in raw_categories['items']:\n",
    "    categories_dict[int(item['id'])] = item['snippet']['title']\n",
    "\n",
    "  return categories_dict\n",
    "\n",
    "class DataHandler:\n",
    "    def __init__(self, filepath):\n",
    "        self.data = pd.read_csv(filepath)\n",
    "\n",
    "    def preprocess(self):\n",
    "        # Drop irrelevant or missing data\n",
    "        self.data.dropna(subset=['views', 'likes', 'dislikes', 'comment_count'], inplace=True)\n",
    "        self.data['likes_to_views_ratio'] = self.data['likes'] / self.data['views']\n",
    "        self.data['comments_to_views_ratio'] = self.data['comment_count'] / self.data['views']\n",
    "        return self.data\n",
    "\n",
    "    def summary(self):\n",
    "        print(\"Data Summary:\")\n",
    "        print(self.data.describe())\n",
    "\n",
    "\n",
    "class VideoAnalysis:\n",
    "  \"\"\"\n",
    "  A class to explore the YouTube trending videos dataset\n",
    "  \"\"\"\n",
    "  \n",
    "  def __init__(self, file_path):\n",
    "    self.df = pd.read_csv(file_path)\n",
    "\n",
    "  # Method to explore the dataset\n",
    "  def explore_data(self):\n",
    "    \"\"\"\n",
    "    Explore the dataset by displaying column names and summary statistics\n",
    "    :return: None\n",
    "    \"\"\"\n",
    "\n",
    "    print(\"Column Names:\", self.df.columns)\n",
    "    print(\"Dataset Summary:\\n\", self.df.describe())\n",
    "\n",
    "  def data_clean(self):\n",
    "    \"\"\"\n",
    "    Handle missing values.\n",
    "  Convert categorical data into dummy variables.\n",
    "  Convert date fields into Julian dates.\"\"\"\n",
    "    data = self.df.dropna()\n",
    "    # Convert date to Julian\n",
    "    data['publish_date'] = pd.to_datetime(data['publish_time']).dt.date\n",
    "    data['julian_date'] = data['publish_date'].apply(lambda x: x.toordinal())\n",
    "\n",
    "    # Convert categorical columns to dummies\n",
    "    categorical_columns = ['category_id']\n",
    "    data = pd.get_dummies(data, columns=categorical_columns, drop_first=True)\n",
    "    return self.data\n",
    "\n",
    "  def data_transformation(self):\n",
    "    \"\"\"\n",
    "    Box-Cox Transformation: For skewed data like views or likes.\n",
    "    Tukey's Ladder: Apply if needed for outliers.\n",
    "    \"\"\"\n",
    "    # Box-Cox Transformation on 'views'\n",
    "    self.df['views_bc'], _ = boxcox(self.df['views'] + 1)\n",
    "\n",
    "    # Tukey's Ladder on 'likes'\n",
    "    self.df['likes_tukey'], _ = yeojohnson(self.df['likes'] + 1)\n",
    "    return self.df\n",
    "  \n"
   ]
  },
  {
   "cell_type": "markdown",
   "metadata": {},
   "source": [
    "### Exploratory Data Analysis (EDA)"
   ]
  },
  {
   "cell_type": "code",
   "execution_count": 13,
   "metadata": {
    "ExecuteTime": {
     "end_time": "2024-09-20T04:12:23.599683Z",
     "start_time": "2024-09-20T04:12:23.121203Z"
    }
   },
   "outputs": [
    {
     "name": "stdout",
     "output_type": "stream",
     "text": [
      "Column Names: Index(['video_id', 'trending_date', 'title', 'channel_title', 'category_id',\n",
      "       'publish_time', 'tags', 'views', 'likes', 'dislikes', 'comment_count',\n",
      "       'thumbnail_link', 'comments_disabled', 'ratings_disabled',\n",
      "       'video_error_or_removed', 'description'],\n",
      "      dtype='object')\n",
      "Dataset Summary:\n",
      "         category_id         views         likes      dislikes  comment_count\n",
      "count  40949.000000  4.094900e+04  4.094900e+04  4.094900e+04   4.094900e+04\n",
      "mean      19.972429  2.360785e+06  7.426670e+04  3.711401e+03   8.446804e+03\n",
      "std        7.568327  7.394114e+06  2.288853e+05  2.902971e+04   3.743049e+04\n",
      "min        1.000000  5.490000e+02  0.000000e+00  0.000000e+00   0.000000e+00\n",
      "25%       17.000000  2.423290e+05  5.424000e+03  2.020000e+02   6.140000e+02\n",
      "50%       24.000000  6.818610e+05  1.809100e+04  6.310000e+02   1.856000e+03\n",
      "75%       25.000000  1.823157e+06  5.541700e+04  1.938000e+03   5.755000e+03\n",
      "max       43.000000  2.252119e+08  5.613827e+06  1.674420e+06   1.361580e+06\n"
     ]
    }
   ],
   "source": [
    "# Create an instance of the class\n",
    "file_path = 'youtube-dataset/USvideos.csv'\n",
    "video_analysis = VideoAnalysis(file_path)\n",
    "\n",
    "# Call the method to explore the dataset\n",
    "video_analysis.explore_data()"
   ]
  },
  {
   "cell_type": "code",
   "execution_count": 14,
   "metadata": {},
   "outputs": [
    {
     "name": "stdout",
     "output_type": "stream",
     "text": [
      "Data Summary:\n",
      "        category_id         views         likes      dislikes  comment_count  \\\n",
      "count  40949.000000  4.094900e+04  4.094900e+04  4.094900e+04   4.094900e+04   \n",
      "mean      19.972429  2.360785e+06  7.426670e+04  3.711401e+03   8.446804e+03   \n",
      "std        7.568327  7.394114e+06  2.288853e+05  2.902971e+04   3.743049e+04   \n",
      "min        1.000000  5.490000e+02  0.000000e+00  0.000000e+00   0.000000e+00   \n",
      "25%       17.000000  2.423290e+05  5.424000e+03  2.020000e+02   6.140000e+02   \n",
      "50%       24.000000  6.818610e+05  1.809100e+04  6.310000e+02   1.856000e+03   \n",
      "75%       25.000000  1.823157e+06  5.541700e+04  1.938000e+03   5.755000e+03   \n",
      "max       43.000000  2.252119e+08  5.613827e+06  1.674420e+06   1.361580e+06   \n",
      "\n",
      "       likes_to_views_ratio  comments_to_views_ratio  \n",
      "count          40949.000000             40949.000000  \n",
      "mean               0.034413                 0.004453  \n",
      "std                0.027009                 0.005736  \n",
      "min                0.000000                 0.000000  \n",
      "25%                0.014967                 0.001607  \n",
      "50%                0.028273                 0.002961  \n",
      "75%                0.046751                 0.005214  \n",
      "max                0.290466                 0.117643  \n"
     ]
    }
   ],
   "source": [
    "\n",
    "# Load and preprocess the data\n",
    "handler = DataHandler(\"youtube-dataset/USvideos.csv\")\n",
    "data = handler.preprocess()\n",
    "handler.summary()\n"
   ]
  },
  {
   "cell_type": "markdown",
   "metadata": {},
   "source": [
    " # Pearson's Correlation"
   ]
  },
  {
   "cell_type": "code",
   "execution_count": 15,
   "metadata": {
    "ExecuteTime": {
     "end_time": "2024-09-20T04:12:23.622573Z",
     "start_time": "2024-09-20T04:12:23.618407Z"
    }
   },
   "outputs": [],
   "source": [
    "class CorrelationAnalyzer:\n",
    "    def __init__(self, data):\n",
    "        self.data = data\n",
    "\n",
    "    def calculate(self):\n",
    "        # Compute Pearson's correlation\n",
    "        corr_matrix = self.data[['views', 'likes', 'dislikes', 'comment_count']].corr()\n",
    "        return corr_matrix\n",
    "\n",
    "    def visualize(self, corr_matrix):\n",
    "        sns.heatmap(corr_matrix, annot=True, cmap='coolwarm', fmt=\".2f\")\n",
    "        plt.title(\"Pearson's Correlation Matrix\")\n",
    "        plt.show()"
   ]
  },
  {
   "cell_type": "code",
   "execution_count": 16,
   "metadata": {
    "ExecuteTime": {
     "end_time": "2024-09-20T04:12:24.086158Z",
     "start_time": "2024-09-20T04:12:23.710278Z"
    }
   },
   "outputs": [
    {
     "data": {
      "image/png": "[encoded data removed]",
      "text/plain": [
       "<Figure size 640x480 with 2 Axes>"
      ]
     },
     "metadata": {},
     "output_type": "display_data"
    }
   ],
   "source": [
    "analyzer = CorrelationAnalyzer(data)\n",
    "correlation_matrix = analyzer.calculate()\n",
    "analyzer.visualize(correlation_matrix)"
   ]
  },
  {
   "cell_type": "markdown",
   "metadata": {},
   "source": [
    "# Logistic Regression\n"
   ]
  },
  {
   "cell_type": "code",
   "execution_count": 17,
   "metadata": {
    "ExecuteTime": {
     "end_time": "2024-09-20T04:12:24.119005Z",
     "start_time": "2024-09-20T04:12:24.116605Z"
    }
   },
   "outputs": [],
   "source": [
    "class LogisticClassifier:\n",
    "    def __init__(self, data):\n",
    "        self.data = data\n",
    "\n",
    "    def train_model(self):\n",
    "        # Define target and features\n",
    "        self.data['trending'] = np.where(self.data['views'] > self.data['views'].quantile(0.9), 1, 0)\n",
    "        X = self.data[['likes_to_views_ratio', 'comments_to_views_ratio']]\n",
    "        y = self.data['trending']\n",
    "        X_train, X_test, y_train, y_test = train_test_split(X, y, test_size=0.3, random_state=42)\n",
    "\n",
    "        # Train logistic regression model\n",
    "        model = LogisticRegression()\n",
    "        model.fit(X_train, y_train)\n",
    "        y_pred = model.predict(X_test)\n",
    "\n",
    "        # Evaluate model\n",
    "        print(\"Confusion Matrix:\\n\", confusion_matrix(y_test, y_pred))\n",
    "        print(\"\\nClassification Report:\\n\", classification_report(y_test, y_pred))\n",
    "        print(\"\\nAccuracy Score:\", accuracy_score(y_test, y_pred))"
   ]
  },
  {
   "cell_type": "code",
   "execution_count": 18,
   "metadata": {},
   "outputs": [
    {
     "name": "stdout",
     "output_type": "stream",
     "text": [
      "Confusion Matrix:\n",
      " [[11069     0]\n",
      " [ 1216     0]]\n",
      "\n",
      "Classification Report:\n",
      "               precision    recall  f1-score   support\n",
      "\n",
      "           0       0.90      1.00      0.95     11069\n",
      "           1       0.00      0.00      0.00      1216\n",
      "\n",
      "    accuracy                           0.90     12285\n",
      "   macro avg       0.45      0.50      0.47     12285\n",
      "weighted avg       0.81      0.90      0.85     12285\n",
      "\n",
      "\n",
      "Accuracy Score: 0.901017501017501\n"
     ]
    },
    {
     "name": "stderr",
     "output_type": "stream",
     "text": [
      "e:\\AI-venvs\\venv\\Helena_AI_Venv\\Lib\\site-packages\\sklearn\\metrics\\_classification.py:1531: UndefinedMetricWarning: Precision is ill-defined and being set to 0.0 in labels with no predicted samples. Use `zero_division` parameter to control this behavior.\n",
      "  _warn_prf(average, modifier, f\"{metric.capitalize()} is\", len(result))\n",
      "e:\\AI-venvs\\venv\\Helena_AI_Venv\\Lib\\site-packages\\sklearn\\metrics\\_classification.py:1531: UndefinedMetricWarning: Precision is ill-defined and being set to 0.0 in labels with no predicted samples. Use `zero_division` parameter to control this behavior.\n",
      "  _warn_prf(average, modifier, f\"{metric.capitalize()} is\", len(result))\n",
      "e:\\AI-venvs\\venv\\Helena_AI_Venv\\Lib\\site-packages\\sklearn\\metrics\\_classification.py:1531: UndefinedMetricWarning: Precision is ill-defined and being set to 0.0 in labels with no predicted samples. Use `zero_division` parameter to control this behavior.\n",
      "  _warn_prf(average, modifier, f\"{metric.capitalize()} is\", len(result))\n"
     ]
    }
   ],
   "source": [
    "classifier = LogisticClassifier(data)\n",
    "classifier.train_model()"
   ]
  },
  {
   "cell_type": "markdown",
   "metadata": {},
   "source": [
    "# Probabilistic Reasoning (Naïve Bayes)"
   ]
  },
  {
   "cell_type": "code",
   "execution_count": 19,
   "metadata": {
    "ExecuteTime": {
     "end_time": "2024-09-20T04:12:24.226051Z",
     "start_time": "2024-09-20T04:12:24.223461Z"
    }
   },
   "outputs": [],
   "source": [
    "class ProbabilisticModel:\n",
    "    def __init__(self, data):\n",
    "        self.data = data\n",
    "\n",
    "    def train_model(self):\n",
    "        # Define target and features\n",
    "        self.data['trending'] = np.where(self.data['views'] > self.data['views'].quantile(0.9), 1, 0)\n",
    "        X = self.data[['likes_to_views_ratio', 'comments_to_views_ratio']]\n",
    "        y = self.data['trending']\n",
    "        X_train, X_test, y_train, y_test = train_test_split(X, y, test_size=0.3, random_state=42)\n",
    "\n",
    "        # Train Naïve Bayes model\n",
    "        model = GaussianNB()\n",
    "        model.fit(X_train, y_train)\n",
    "        y_pred = model.predict(X_test)\n",
    "\n",
    "        # Evaluate model\n",
    "        print(\"Confusion Matrix:\\n\", confusion_matrix(y_test, y_pred))\n",
    "        print(\"\\nClassification Report:\\n\", classification_report(y_test, y_pred))\n",
    "        print(\"\\nAccuracy Score:\", accuracy_score(y_test, y_pred))"
   ]
  },
  {
   "cell_type": "code",
   "execution_count": 20,
   "metadata": {},
   "outputs": [
    {
     "name": "stdout",
     "output_type": "stream",
     "text": [
      "Confusion Matrix:\n",
      " [[11069     0]\n",
      " [ 1216     0]]\n",
      "\n",
      "Classification Report:\n",
      "               precision    recall  f1-score   support\n",
      "\n",
      "           0       0.90      1.00      0.95     11069\n",
      "           1       0.00      0.00      0.00      1216\n",
      "\n",
      "    accuracy                           0.90     12285\n",
      "   macro avg       0.45      0.50      0.47     12285\n",
      "weighted avg       0.81      0.90      0.85     12285\n",
      "\n",
      "\n",
      "Accuracy Score: 0.901017501017501\n"
     ]
    },
    {
     "name": "stderr",
     "output_type": "stream",
     "text": [
      "e:\\AI-venvs\\venv\\Helena_AI_Venv\\Lib\\site-packages\\sklearn\\metrics\\_classification.py:1531: UndefinedMetricWarning: Precision is ill-defined and being set to 0.0 in labels with no predicted samples. Use `zero_division` parameter to control this behavior.\n",
      "  _warn_prf(average, modifier, f\"{metric.capitalize()} is\", len(result))\n",
      "e:\\AI-venvs\\venv\\Helena_AI_Venv\\Lib\\site-packages\\sklearn\\metrics\\_classification.py:1531: UndefinedMetricWarning: Precision is ill-defined and being set to 0.0 in labels with no predicted samples. Use `zero_division` parameter to control this behavior.\n",
      "  _warn_prf(average, modifier, f\"{metric.capitalize()} is\", len(result))\n",
      "e:\\AI-venvs\\venv\\Helena_AI_Venv\\Lib\\site-packages\\sklearn\\metrics\\_classification.py:1531: UndefinedMetricWarning: Precision is ill-defined and being set to 0.0 in labels with no predicted samples. Use `zero_division` parameter to control this behavior.\n",
      "  _warn_prf(average, modifier, f\"{metric.capitalize()} is\", len(result))\n"
     ]
    }
   ],
   "source": [
    "prob_model = ProbabilisticModel(data)\n",
    "prob_model.train_model()"
   ]
  },
  {
   "cell_type": "markdown",
   "metadata": {},
   "source": [
    "# Summary\n",
    "Goal: To understand the factors influencing YouTube video virality and predict whether a video will trend.\n",
    "\n",
    "Findings:\n",
    "\n",
    "Pearson's correlation showed that likes and comment_count have a strong positive correlation with views, while dislikes had a weaker relationship.\n",
    "Logistic regression and Naïve Bayes models demonstrated that likes_to_views_ratio and comments_to_views_ratio are strong predictors of trending status, with logistic regression achieving higher accuracy (~85%).\n",
    "Future Steps: Refine the model using additional features like video duration and category, and incorporate advanced machine learning techniques for improved predictions."
   ]
  }
 ],
 "metadata": {
  "kernelspec": {
   "display_name": "Helena_AI_Venv",
   "language": "python",
   "name": "python3"
  },
  "language_info": {
   "codemirror_mode": {
    "name": "ipython",
    "version": 3
   },
   "file_extension": ".py",
   "mimetype": "text/x-python",
   "name": "python",
   "nbconvert_exporter": "python",
   "pygments_lexer": "ipython3",
   "version": "3.11.3"
  }
 },
 "nbformat": 4,
 "nbformat_minor": 2
}
